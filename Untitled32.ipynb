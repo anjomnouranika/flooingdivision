{
  "nbformat": 4,
  "nbformat_minor": 0,
  "metadata": {
    "colab": {
      "name": "Untitled32.ipynb",
      "provenance": [],
      "collapsed_sections": [],
      "authorship_tag": "ABX9TyM9p2QRKTA9oEbRQtRFdilS",
      "include_colab_link": true
    },
    "kernelspec": {
      "name": "python3",
      "display_name": "Python 3"
    }
  },
  "cells": [
    {
      "cell_type": "markdown",
      "metadata": {
        "id": "view-in-github",
        "colab_type": "text"
      },
      "source": [
        "<a href=\"https://colab.research.google.com/github/anjomnouranika/flooingdivision/blob/master/Untitled32.ipynb\" target=\"_parent\"><img src=\"https://colab.research.google.com/assets/colab-badge.svg\" alt=\"Open In Colab\"/></a>"
      ]
    },
    {
      "cell_type": "code",
      "metadata": {
        "id": "VFwRWuIlISNX",
        "colab_type": "code",
        "colab": {
          "base_uri": "https://localhost:8080/",
          "height": 51
        },
        "outputId": "800ef6d1-9a8e-467a-f6cc-e60a2115cdb6"
      },
      "source": [
        "count = 0\n",
        "number = int(input(\"Enter a number \"))\n",
        "\n",
        "while (number > 0):\n",
        "  number = number//10\n",
        "  count = count + 1\n",
        "\n",
        "print (\"Total number of digits : \",count)"
      ],
      "execution_count": 20,
      "outputs": [
        {
          "output_type": "stream",
          "text": [
            "Enter a number 1234\n",
            "Total number of digits :  4\n"
          ],
          "name": "stdout"
        }
      ]
    },
    {
      "cell_type": "code",
      "metadata": {
        "id": "ixBeA_RGKy3p",
        "colab_type": "code",
        "colab": {
          "base_uri": "https://localhost:8080/",
          "height": 51
        },
        "outputId": "0ebcd656-4c10-4f78-ed9f-bcd284995756"
      },
      "source": [
        "number = int(input(\"\"))\n",
        "count = 0\n",
        "while number > 0:\n",
        "  number = number//10\n",
        "  count = count + 1\n",
        "print(\"count\",count)\n"
      ],
      "execution_count": 49,
      "outputs": [
        {
          "output_type": "stream",
          "text": [
            "123\n",
            "count 3\n"
          ],
          "name": "stdout"
        }
      ]
    }
  ]
}